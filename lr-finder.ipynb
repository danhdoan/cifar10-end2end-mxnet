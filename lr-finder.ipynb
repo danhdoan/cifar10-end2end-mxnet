{
 "cells": [
  {
   "cell_type": "markdown",
   "metadata": {},
   "source": [
    "## 1. Import Necessary Modules"
   ]
  },
  {
   "cell_type": "code",
   "execution_count": 1,
   "metadata": {},
   "outputs": [],
   "source": [
    "%matplotlib inline\n",
    "import matplotlib.pyplot as plt\n",
    "\n",
    "from altusi.utils.logger import *\n",
    "import altusi.utils.visualizer as vis\n",
    "import altusi.configs.config as cfg\n",
    "from altusi.learning import Learner, LRFinder"
   ]
  },
  {
   "cell_type": "code",
   "execution_count": 2,
   "metadata": {},
   "outputs": [],
   "source": [
    "import mxnet as mx\n",
    "from mxnet import nd, gluon, context\n",
    "from mxnet.gluon.data.vision import transforms, CIFAR10"
   ]
  },
  {
   "cell_type": "markdown",
   "metadata": {},
   "source": [
    "## 2. Prepare Data"
   ]
  },
  {
   "cell_type": "code",
   "execution_count": 3,
   "metadata": {},
   "outputs": [],
   "source": [
    "transformer = transforms.Compose([\n",
    "    transforms.RandomFlipLeftRight(),\n",
    "    transforms.ToTensor(),\n",
    "    transforms.Normalize([0.4914, 0.4822, 0.4465], [0.2023, 0.1994, 0.2010])\n",
    "])\n",
    "\n",
    "train_dataset = CIFAR10(train=True).transform_first(transformer)"
   ]
  },
  {
   "cell_type": "code",
   "execution_count": 4,
   "metadata": {},
   "outputs": [],
   "source": [
    "class ContinuousBatchSampler():\n",
    "    def __init__(self, sampler, batch_size):\n",
    "        self.sampler = sampler\n",
    "        self.batch_size = batch_size\n",
    "        \n",
    "    def __iter__(self):\n",
    "        batch = []\n",
    "        \n",
    "        while True:\n",
    "            for i in self.sampler:\n",
    "                batch.append(i)\n",
    "                \n",
    "                if len(batch) == self.batch_size:\n",
    "                    yield batch\n",
    "                    batch = []"
   ]
  },
  {
   "cell_type": "code",
   "execution_count": 5,
   "metadata": {},
   "outputs": [
    {
     "name": "stdout",
     "output_type": "stream",
     "text": [
      "[\u001b[32m2019-08-20 19:18:08\u001b[0m] \u001b[1m\u001b[33m[DEBUG]\u001b[0m Dataset len: 50000\n"
     ]
    }
   ],
   "source": [
    "LOG(DEBUG, 'Dataset len:', len(train_dataset))\n",
    "\n",
    "sampler = gluon.data.RandomSampler(len(train_dataset))\n",
    "batch_sampler = ContinuousBatchSampler(sampler, batch_size=128)\n",
    "train_loader = gluon.data.DataLoader(train_dataset, batch_sampler=batch_sampler)"
   ]
  },
  {
   "cell_type": "markdown",
   "metadata": {},
   "source": [
    "## 3. Learning Rate Finder Procedure"
   ]
  },
  {
   "cell_type": "code",
   "execution_count": 6,
   "metadata": {},
   "outputs": [
    {
     "name": "stdout",
     "output_type": "stream",
     "text": [
      "[\u001b[32m2019-08-20 19:18:08\u001b[0m] \u001b[1m\u001b[34m[INFO] \u001b[0m Device in Use: gpu(0)\n"
     ]
    }
   ],
   "source": [
    "ctx = context.gpu() if context.num_gpus() else context.cpu()\n",
    "\n",
    "LOG(INFO, 'Device in Use:', ctx)"
   ]
  },
  {
   "cell_type": "code",
   "execution_count": 7,
   "metadata": {},
   "outputs": [
    {
     "data": {
      "image/png": "[encoded data removed]",
      "text/plain": [
       "<Figure size 576x432 with 1 Axes>"
      ]
     },
     "metadata": {
      "needs_background": "light"
     },
     "output_type": "display_data"
    }
   ],
   "source": [
    "from altusi.models import AlexNet\n",
    "from altusi.models import VGG11, VGG13, VGG16, VGG19\n",
    "from altusi.models import ResNet18, ResNet34, ResNet50, ResNet101, ResNet152\n",
    "from altusi.models import DenseNet121, DenseNet161, DenseNet169, DenseNet201\n",
    "from altusi.models import GoogleNet, InceptionV3\n",
    "\n",
    "\n",
    "# AlexNet architecture\n",
    "# net = AlexNet(nclasses=cfg.CIFAR_NCLASSES); model_name = 'AlexNet'\n",
    "\n",
    "# VGG architectures\n",
    "# net = VGG11(nclasses=cfg.CIFAR_NCLASSES); model_name = 'VGG11'\n",
    "# net = VGG13(nclasses=cfg.CIFAR_NCLASSES); model_name = 'VGG13'\n",
    "# net = VGG16(nclasses=cfg.CIFAR_NCLASSES); model_name = 'VGG16'\n",
    "# net = VGG19(nclasses=cfg.CIFAR_NCLASSES); model_name = 'VGG19'\n",
    "\n",
    "# ResNet architectures\n",
    "# net = ResNet18(nclasses=cfg.CIFAR_NCLASSES); model_name = 'ResNet18'\n",
    "# net = ResNet34(nclasses=cfg.CIFAR_NCLASSES); model_name = 'ResNet34'\n",
    "# net = ResNet50(nclasses=cfg.CIFAR_NCLASSES); model_name = 'ResNet50'\n",
    "# net = ResNet101(nclasses=cfg.CIFAR_NCLASSES); model_name = 'ResNet101'\n",
    "# net = ResNet152(nclasses=cfg.CIFAR_NCLASSES); model_name = 'ResNet152'\n",
    "\n",
    "# DenseNet architectures\n",
    "# net = DenseNet121(nclasses=cfg.CIFAR_NCLASSES); model_name = 'DenseNet121'\n",
    "# net = DenseNet161(nclasses=cfg.CIFAR_NCLASSES); model_name = 'DenseNet161'\n",
    "# net = DenseNet169(nclasses=cfg.CIFAR_NCLASSES); model_name = 'DenseNet169'\n",
    "# net = DenseNet201(nclasses=cfg.CIFAR_NCLASSES); model_name = 'DenseNet201'\n",
    "\n",
    "\n",
    "# Inception architecture\n",
    "net = GoogleNet(nclasses=cfg.CIFAR_NCLASSES); model_name = 'GoogleNet'\n",
    "# net = InceptionV3(nclasses=cfg.CIFAR_NCLASSES); model_name = 'InceptionV3'\n",
    "\n",
    "learner = Learner(net, train_loader, ctx)\n",
    "lr_finder = LRFinder(learner)\n",
    "\n",
    "lr_finder.find(lr_start=1e-6)\n",
    "lr_finder.plot()"
   ]
  },
  {
   "cell_type": "code",
   "execution_count": null,
   "metadata": {},
   "outputs": [],
   "source": []
  }
 ],
 "metadata": {
  "kernelspec": {
   "display_name": "Python 3",
   "language": "python",
   "name": "python3"
  },
  "language_info": {
   "codemirror_mode": {
    "name": "ipython",
    "version": 3
   },
   "file_extension": ".py",
   "mimetype": "text/x-python",
   "name": "python",
   "nbconvert_exporter": "python",
   "pygments_lexer": "ipython3",
   "version": "3.6.8"
  }
 },
 "nbformat": 4,
 "nbformat_minor": 2
}

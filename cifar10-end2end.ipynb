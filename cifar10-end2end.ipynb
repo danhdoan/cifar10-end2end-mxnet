{
 "cells": [
  {
   "cell_type": "markdown",
   "metadata": {},
   "source": [
    "## 1. Import Necessary Modules"
   ]
  },
  {
   "cell_type": "code",
   "execution_count": null,
   "metadata": {},
   "outputs": [],
   "source": [
    "import os\n",
    "import math\n",
    "\n",
    "%matplotlib inline\n",
    "import matplotlib.pyplot as plt\n",
    "\n",
    "from altusi import utils\n",
    "import altusi.utils.visualizer as vis\n",
    "import altusi.configs.config as cfg\n",
    "from altusi import learning\n",
    "from altusi.utils.logger import *"
   ]
  },
  {
   "cell_type": "code",
   "execution_count": null,
   "metadata": {},
   "outputs": [],
   "source": [
    "import numpy as np\n",
    "\n",
    "import mxnet as mx\n",
    "from mxnet import nd, autograd, gluon, context\n",
    "from mxnet.gluon.data.vision import transforms, CIFAR10\n",
    "from gluoncv.data import transforms as gcv_transforms"
   ]
  },
  {
   "cell_type": "markdown",
   "metadata": {},
   "source": [
    "## 2. Prepare Data"
   ]
  },
  {
   "cell_type": "markdown",
   "metadata": {},
   "source": [
    "### 2.1 Define Data Transformers"
   ]
  },
  {
   "cell_type": "code",
   "execution_count": null,
   "metadata": {},
   "outputs": [],
   "source": [
    "train_transformer = transforms.Compose([\n",
    "    gcv_transforms.RandomCrop(cfg.IMAGE_SIZE, pad=4),\n",
    "    transforms.RandomFlipLeftRight(),\n",
    "    transforms.ToTensor(),\n",
    "    transforms.Normalize(cfg.CIFAR10_MEAN, cfg.CIFAR10_STD)\n",
    "])\n",
    "\n",
    "test_transformer = transforms.Compose([\n",
    "    transforms.ToTensor(),\n",
    "    transforms.Normalize(cfg.CIFAR10_MEAN, cfg.CIFAR10_STD)\n",
    "])\n",
    "\n",
    "LOG(INFO, 'Data Transformers defining done')"
   ]
  },
  {
   "cell_type": "markdown",
   "metadata": {},
   "source": [
    "### 2.2 Load Dataset"
   ]
  },
  {
   "cell_type": "code",
   "execution_count": null,
   "metadata": {},
   "outputs": [],
   "source": [
    "train_dataset = CIFAR10(train=True)\n",
    "test_dataset = CIFAR10(train=False)\n",
    "\n",
    "LOG(INFO, 'Dataset loading done')"
   ]
  },
  {
   "cell_type": "code",
   "execution_count": null,
   "metadata": {},
   "outputs": [],
   "source": [
    "X, y = train_dataset[:10]\n",
    "\n",
    "vis.show_images(X, 1, 10, titles=[cfg.CIFAR_CLASSES[cls] for cls in y])"
   ]
  },
  {
   "cell_type": "markdown",
   "metadata": {},
   "source": [
    "### 2.3 Define Data Loaders"
   ]
  },
  {
   "cell_type": "code",
   "execution_count": null,
   "metadata": {},
   "outputs": [],
   "source": [
    "BATCH_SIZE = cfg.BATCH_SIZE\n",
    "\n",
    "train_loader = gluon.data.DataLoader(\n",
    "    train_dataset.transform_first(train_transformer),\n",
    "    batch_size=BATCH_SIZE,\n",
    "    shuffle=True,\n",
    "    num_workers=4\n",
    ")\n",
    "\n",
    "test_loader = gluon.data.DataLoader(\n",
    "    test_dataset.transform_first(test_transformer),\n",
    "    batch_size=BATCH_SIZE,\n",
    "    num_workers=4\n",
    ")\n",
    "\n",
    "LOG(INFO, 'Data Loaders defining done')"
   ]
  },
  {
   "cell_type": "markdown",
   "metadata": {},
   "source": [
    "## 3. Setup Training System"
   ]
  },
  {
   "cell_type": "markdown",
   "metadata": {},
   "source": [
    "### 3.1 Define CNN model"
   ]
  },
  {
   "cell_type": "code",
   "execution_count": null,
   "metadata": {},
   "outputs": [],
   "source": [
    "from altusi.models import AlexNet\n",
    "from altusi.models import VGG11, VGG13, VGG16, VGG19\n",
    "from altusi.models import ResNet18, ResNet34, ResNet50, ResNet101, ResNet152\n",
    "from altusi.models import DenseNet121, DenseNet161, DenseNet169, DenseNet201\n",
    "from altusi.models import GoogleNet, InceptionV3\n",
    "\n",
    "# AlexNet architecture\n",
    "# net = AlexNet(nclasses=cfg.CIFAR_NCLASSES); model_name = 'AlexNet'\n",
    "\n",
    "# VGG architectures\n",
    "# net = VGG11(nclasses=cfg.CIFAR_NCLASSES); model_name = 'VGG11'\n",
    "# net = VGG13(nclasses=cfg.CIFAR_NCLASSES); model_name = 'VGG13'\n",
    "# net = VGG16(nclasses=cfg.CIFAR_NCLASSES); model_name = 'VGG16'\n",
    "# net = VGG19(nclasses=cfg.CIFAR_NCLASSES); model_name = 'VGG19'\n",
    "\n",
    "# ResNet architectures\n",
    "# net = ResNet18(nclasses=cfg.CIFAR_NCLASSES); model_name = 'ResNet18'\n",
    "# net = ResNet34(nclasses=cfg.CIFAR_NCLASSES); model_name = 'ResNet34'\n",
    "# net = ResNet50(nclasses=cfg.CIFAR_NCLASSES); model_name = 'ResNet50'\n",
    "net = ResNet101(nclasses=cfg.CIFAR_NCLASSES); model_name = 'ResNet101'\n",
    "# net = ResNet152(nclasses=cfg.CIFAR_NCLASSES); model_name = 'ResNet152'\n",
    "\n",
    "# DenseNet architectures\n",
    "# net = DenseNet121(nclasses=cfg.CIFAR_NCLASSES); model_name = 'DenseNet121'\n",
    "# net = DenseNet161(nclasses=cfg.CIFAR_NCLASSES); model_name = 'DenseNet161'\n",
    "# net = DenseNet169(nclasses=cfg.CIFAR_NCLASSES); model_name = 'DenseNet169'\n",
    "# net = DenseNet201(nclasses=cfg.CIFAR_NCLASSES); model_name = 'DenseNet201'\n",
    "\n",
    "\n",
    "# Inception architecture\n",
    "# net = GoogleNet(nclasses=cfg.CIFAR_NCLASSES); model_name = 'GoogleNet'\n",
    "# net = InceptionV3(nclasses=cfg.CIFAR_NCLASSES); model_name = 'InceptionV3'\n",
    "\n",
    "\n",
    "LOG(INFO, '{} Network setup done'.format(model_name))"
   ]
  },
  {
   "cell_type": "markdown",
   "metadata": {},
   "source": [
    "#### 3.1.1 Test CNN model"
   ]
  },
  {
   "cell_type": "code",
   "execution_count": null,
   "metadata": {
    "scrolled": false
   },
   "outputs": [],
   "source": [
    "net.hybridize()\n",
    "net.initialize(force_reinit=True)\n",
    "\n",
    "X = nd.random.uniform(shape=(1, 3, 32, 32))\n",
    "\n",
    "net(X)"
   ]
  },
  {
   "cell_type": "markdown",
   "metadata": {},
   "source": [
    "### 3.2 Set device"
   ]
  },
  {
   "cell_type": "code",
   "execution_count": null,
   "metadata": {},
   "outputs": [],
   "source": [
    "ctx = context.gpu(0) if context.num_gpus() else context.cpu()\n",
    "\n",
    "LOG(INFO, 'Device in Use:', ctx)"
   ]
  },
  {
   "cell_type": "markdown",
   "metadata": {},
   "source": [
    "### 3.3 Define Learning Rate Scheduler"
   ]
  },
  {
   "cell_type": "code",
   "execution_count": null,
   "metadata": {},
   "outputs": [],
   "source": [
    "# learning rate scheduler\n",
    "iter_per_epochs = math.ceil(len(train_dataset) / BATCH_SIZE)\n",
    "niterations = cfg.NEPOCHS * iter_per_epochs\n",
    "\n",
    "lr_scheduler = learning.OneCycleScheduler(start_lr=0.01, max_lr=0.1,\n",
    "                                          cycle_length=40*iter_per_epochs, \n",
    "                                          cooldown_length=niterations - 40*iter_per_epochs, \n",
    "                                          finish_lr=0.001)\n",
    "\n",
    "iters = [i+1 for i in range(iter_per_epochs * cfg.NEPOCHS)]\n",
    "\n",
    "lrs = [lr_scheduler(i) for i in iters]\n",
    "\n",
    "vis.plot(iters, lrs, figsize=(8, 6))"
   ]
  },
  {
   "cell_type": "markdown",
   "metadata": {},
   "source": [
    "### 3.4 Define Criterion, Optimizer and Trainer"
   ]
  },
  {
   "cell_type": "code",
   "execution_count": null,
   "metadata": {},
   "outputs": [],
   "source": [
    "# loss function\n",
    "criterion = gluon.loss.SoftmaxCrossEntropyLoss()\n",
    "\n",
    "\n",
    "# optimizer\n",
    "optimizer = mx.optimizer.SGD(momentum=cfg.MOMENTUM, \n",
    "                             wd=cfg.WD, \n",
    "                             lr_scheduler=lr_scheduler)\n",
    "\n",
    "net.initialize(init=mx.init.Xavier(), ctx=ctx, force_reinit=True)\n",
    "net.hybridize()\n",
    "\n",
    "trainer = gluon.Trainer(net.collect_params(), optimizer)\n",
    "\n",
    "LOG(INFO, 'Training system setup done')"
   ]
  },
  {
   "cell_type": "markdown",
   "metadata": {},
   "source": [
    "## 4. Training Procedure"
   ]
  },
  {
   "cell_type": "code",
   "execution_count": null,
   "metadata": {},
   "outputs": [],
   "source": [
    "def evaluate_accuracy_loss(net, loader, criterion, ctx):\n",
    "    metric = mx.metric.Accuracy()\n",
    "    loss = 0\n",
    "    sample_cnt = 0\n",
    "    \n",
    "    for i, (X, y) in enumerate(loader):\n",
    "        X, y = X.as_in_context(ctx), y.as_in_context(ctx)\n",
    "        \n",
    "        y_hat = net(X)\n",
    "        l = criterion(y_hat, y)\n",
    "        \n",
    "        metric.update(labels=[y], preds=[y_hat])\n",
    "        loss += l.sum().asscalar()\n",
    "        sample_cnt += X.shape[0]\n",
    "        \n",
    "    return metric.get(), loss / sample_cnt"
   ]
  },
  {
   "cell_type": "code",
   "execution_count": null,
   "metadata": {},
   "outputs": [],
   "source": [
    "animator = vis.Animator(\n",
    "    title=model_name, xlabel='epoch',\n",
    "    legend=['train-acc', 'train-loss', 'val-acc', 'val-loss'],\n",
    "    xlim=[0, cfg.NEPOCHS],\n",
    "    figsize=(8, 6)\n",
    ")\n",
    "\n",
    "train_metric = mx.metric.Accuracy()\n",
    "best_val_acc = 0\n",
    "\n",
    "for epoch in range(cfg.NEPOCHS):\n",
    "    train_metric.reset()\n",
    "    train_loss_total = 0\n",
    "    sample_cnt = 0\n",
    "           \n",
    "    for i, (X, y) in enumerate(train_loader):\n",
    "        X, y = X.as_in_context(ctx), y.as_in_context(ctx)\n",
    "        \n",
    "        with autograd.record():\n",
    "            y_hat = net(X)\n",
    "            l = criterion(y_hat, y)\n",
    "        l.backward()\n",
    "        trainer.step(X.shape[0])\n",
    "        \n",
    "        train_metric.update(labels=[y], preds=[y_hat])\n",
    "        train_loss_total += l.sum().asscalar()\n",
    "        sample_cnt += X.shape[0]\n",
    "        \n",
    "        name, train_acc = train_metric.get()\n",
    "        train_loss = train_loss_total / sample_cnt\n",
    "        \n",
    "        if (i+1) % 50 == 0 or i+1 == len(train_loader):\n",
    "            animator.add(epoch + i/len(train_loader), \n",
    "                        (train_acc, train_loss, None, None))\n",
    "            \n",
    "    (name, val_acc), val_loss = evaluate_accuracy_loss(net, test_loader, criterion, ctx)\n",
    "    animator.add(epoch+1, (None, None, val_acc, val_loss))\n",
    "    \n",
    "    if best_val_acc < val_acc:\n",
    "        best_val_acc = val_acc\n",
    "        saved_model_name = '{}-epoch-{:02d}-acc-{:.4f}.params'.format(\n",
    "            model_name.lower(), epoch+1, best_val_acc)\n",
    "        net.save_parameters(os.path.join(cfg.CHECKPOINTS, saved_model_name))\n",
    "    \n",
    "    LOG(INFO, 'Epoch:', epoch+1)\n",
    "    LOG(INFO, '\\ttrain-acc:  {:.6f}'.format(train_acc))\n",
    "    LOG(INFO, '\\ttrain-loss: {:.6f}'.format(train_loss))\n",
    "    LOG(INFO, '\\tval-acc:    {:.6f}'.format(val_acc))\n",
    "    LOG(INFO, '\\tval-loss:   {:.6f}'.format(val_loss))\n",
    "    \n",
    "    \n",
    "history_image_name = '{}-acc-{:.4f}.png'.format(model_name.lower(), best_val_acc)\n",
    "animator.savefig(save_path=os.path.join(cfg.HISTORY, history_image_name))\n",
    "\n",
    "LOG(INFO, 'Training Procedure done')"
   ]
  },
  {
   "cell_type": "markdown",
   "metadata": {},
   "source": [
    "## 5. Test Procedure"
   ]
  },
  {
   "cell_type": "markdown",
   "metadata": {},
   "source": [
    "### 5.1 Load Trained Model"
   ]
  },
  {
   "cell_type": "code",
   "execution_count": null,
   "metadata": {},
   "outputs": [],
   "source": [
    "from altusi.models import AlexNet\n",
    "from altusi.models import VGG11, VGG13, VGG16, VGG19\n",
    "from altusi.models import ResNet18, ResNet34, ResNet50, ResNet101, ResNet152\n",
    "from altusi.models import DenseNet121, DenseNet161, DenseNet169, DenseNet201\n",
    "from altusi.models import GoogleNet, InceptionV3\n",
    "\n",
    "# set device\n",
    "ctx = context.gpu(0) if context.num_gpus() else context.cpu()\n",
    "\n",
    "LOG(INFO, 'Device in Use:', ctx)\n",
    "\n",
    "# change to your trained models\n",
    "trained_model_name = 'alexnet-epoch-50-acc-0.8967.params'\n",
    "trained_model_name = 'vgg11-epoch-50-acc-0.9160.params'\n",
    "trained_model_name = 'vgg13-epoch-50-acc-0.9366.params'\n",
    "trained_model_name = 'vgg16-epoch-50-acc-0.9342.params'\n",
    "trained_model_name = 'vgg19-epoch-50-acc-0.9287.params'\n",
    "trained_model_name = 'resnet18-epoch-50-acc-0.9236.params'\n",
    "trained_model_name = 'resnet34-epoch-49-acc-0.9239.params'\n",
    "trained_model_name = 'resnet50-epoch-50-acc-0.9204.params'\n",
    "trained_model_name = 'resnet101-epoch-50-acc-0.9152.params'\n",
    "trained_model_name = 'resnet152-epoch-50-acc-0.9130.params'\n",
    "trained_model_name = 'densenet121-epoch-50-acc-0.9186.params'\n",
    "trained_model_name = 'densenet161-epoch-50-acc-0.9269.params'\n",
    "trained_model_name = 'densenet169-epoch-50-acc-0.9131.params'\n",
    "trained_model_name = 'densenet201-epoch-49-acc-0.9161.params'\n",
    "trained_model_name = 'googlenet-epoch-50-acc-0.8691.params'\n",
    "trained_model_name = 'inceptionv3-epoch-50-acc-0.9425.params'\n",
    "trained_model_path = os.path.join(cfg.CHECKPOINTS, trained_model_name)\n",
    "\n",
    "# AlexNet architecture\n",
    "#trained_net = AlexNet(nclasses=cfg.CIFAR_NCLASSES)\n",
    "\n",
    "# VGG architecture\n",
    "# trained_net = VGG11(nclasses=cfg.CIFAR_NCLASSES)\n",
    "# trained_net = VGG13(nclasses=cfg.CIFAR_NCLASSES)\n",
    "# trained_net = VGG16(nclasses=cfg.CIFAR_NCLASSES)\n",
    "# trained_net = VGG19(nclasses=cfg.CIFAR_NCLASSES)\n",
    "\n",
    "# ResNet architecture\n",
    "# trained_net = ResNet18(nclasses=cfg.CIFAR_NCLASSES)\n",
    "# trained_net = ResNet34(nclasses=cfg.CIFAR_NCLASSES)\n",
    "# trained_net = ResNet50(nclasses=cfg.CIFAR_NCLASSES)\n",
    "# trained_net = ResNet101(nclasses=cfg.CIFAR_NCLASSES)\n",
    "# trained_net = ResNet152(nclasses=cfg.CIFAR_NCLASSES)\n",
    "\n",
    "# DenseNet architecture\n",
    "# trained_net = DenseNet121(nclasses=cfg.CIFAR_NCLASSES)\n",
    "# trained_net = DenseNet161(nclasses=cfg.CIFAR_NCLASSES)\n",
    "# trained_net = DenseNet169(nclasses=cfg.CIFAR_NCLASSES)\n",
    "# trained_net = DenseNet201(nclasses=cfg.CIFAR_NCLASSES)\n",
    "\n",
    "# Inception architecture\n",
    "# trained_net = GoogleNet(nclasses=cfg.CIFAR_NCLASSES)\n",
    "trained_net = InceptionV3(nclasses=cfg.CIFAR_NCLASSES)\n",
    "\n",
    "# load network's parameter to specific hardware\n",
    "trained_net.load_parameters(trained_model_path, ctx=ctx)\n",
    "\n",
    "LOG(INFO, 'Training model loading done')"
   ]
  },
  {
   "cell_type": "markdown",
   "metadata": {},
   "source": [
    "### 5.2 Test with Random Images"
   ]
  },
  {
   "cell_type": "code",
   "execution_count": null,
   "metadata": {},
   "outputs": [],
   "source": [
    "for X, y in test_loader:\n",
    "    break\n",
    "\n",
    "rnd_idx = np.random.choice(BATCH_SIZE, 10, replace=False)"
   ]
  },
  {
   "cell_type": "code",
   "execution_count": null,
   "metadata": {},
   "outputs": [],
   "source": [
    "test_images = X[rnd_idx].as_in_context(ctx)\n",
    "y_hat = trained_net(test_images).argmax(axis=1).astype('int32').asnumpy()\n",
    "y_preds = [cfg.CIFAR_CLASSES[cls] for cls in y_hat]"
   ]
  },
  {
   "cell_type": "code",
   "execution_count": null,
   "metadata": {},
   "outputs": [],
   "source": [
    "_dataset = CIFAR10(train=False)\n",
    "_loader = gluon.data.DataLoader(test_dataset,\n",
    "                                batch_size=BATCH_SIZE,\n",
    "                                num_workers=4)\n",
    "\n",
    "for X, y in _loader:\n",
    "    break\n",
    "test_images = X[rnd_idx]"
   ]
  },
  {
   "cell_type": "markdown",
   "metadata": {},
   "source": [
    "#### Results predicted by Trained Network"
   ]
  },
  {
   "cell_type": "code",
   "execution_count": null,
   "metadata": {},
   "outputs": [],
   "source": [
    "vis.show_images(test_images, 1, 10, y_preds)"
   ]
  },
  {
   "cell_type": "markdown",
   "metadata": {},
   "source": [
    "#### Ground Truth from Dataset"
   ]
  },
  {
   "cell_type": "code",
   "execution_count": null,
   "metadata": {},
   "outputs": [],
   "source": [
    "vis.show_images(test_images, 1, 10, [cfg.CIFAR_CLASSES[cls] for cls in y[rnd_idx].asnumpy()])"
   ]
  },
  {
   "cell_type": "code",
   "execution_count": null,
   "metadata": {},
   "outputs": [],
   "source": []
  }
 ],
 "metadata": {
  "kernelspec": {
   "display_name": "Python 3",
   "language": "python",
   "name": "python3"
  },
  "language_info": {
   "codemirror_mode": {
    "name": "ipython",
    "version": 3
   },
   "file_extension": ".py",
   "mimetype": "text/x-python",
   "name": "python",
   "nbconvert_exporter": "python",
   "pygments_lexer": "ipython3",
   "version": "3.6.8"
  }
 },
 "nbformat": 4,
 "nbformat_minor": 2
}
